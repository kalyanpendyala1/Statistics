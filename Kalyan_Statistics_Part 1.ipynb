{
 "cells": [
  {
   "attachments": {
    "image.png": {
     "image/png": "[encoded data removed]"
    }
   },
   "cell_type": "markdown",
   "metadata": {},
   "source": [
    "\n",
    "### CHAPTER 1 SYNOPSIS\n",
    "\n",
    "**Anecdotal evidence**: Personal or unpublished data.\n",
    "\n",
    "**Descriptive statistics**: summarize the data concisely and evaluate different ways to visualize it\n",
    "\n",
    "**Exploratory Data analysis**: look for patterns, differences, inconsistencies and identify limitations.\n",
    "\n",
    "**Estimation**: we will use data from a sample to estimate characteristics of the general population.\n",
    "\n",
    "**Pandas**:\n",
    "Python data and statistics package. Fundamental data structure provided by pandas is the data frame. It provides methods for accessing and modifying data.\n",
    "Series is another pandas data structure, which is 1D and all the elements in the series has to be only one type.\n",
    "\n",
    "**Recodes**: Recodes are not part of the raw data they are calculated using the raw data. \n",
    "\n",
    "**Inplace**: by default inplace=False for most of the methods like drop(), dropna(), set_index(), rename() etc., When it is false it doesn't affect the underlying data. When you explicitly mention inplace to be true, the changes will modify the underlying data.\n",
    "\n",
    "**NaN** - not a number\n",
    "\n",
    " **When you add two columns you must use dictionary syntax not dot syntax\n",
    "\n",
    "**Validate Data**:\n",
    "one way to validate data is to compute the basic statistics and compare them with values provided in the codebook.\n",
    "\n",
    "One of the best ways to describe a variable is to report how many times each value appears in the variable\n",
    "\n",
    "**Distribution** - means showing how many times each value appears in the variable. If we have less data we can show a frequency distribution showing count on the y-axis and variable on the x-axis. But when you have millions of records, you have to show probability distribution. on the y-axis you will have proportion of the data (frequency/total) and on x-axis you will have variable. Total proportion adds up to 1. \n",
    "\n",
    "**Histogram** - most common way to represent distribution.\n",
    "\n",
    "**Frequency** - how many times each value appears in the variable. Rate of occurance. \n",
    "\n",
    "**Relative Frequency**: How many times a result occurred over No. of times experiment conducted.  = Frequency/Total No. of observations.\n",
    "\n",
    "**Histograms** ---> shows the frequency of each value\n",
    "\n",
    "The shape of the Normal Distribution is a bell-shaped curve. It is also called as Gaussian Distribution.\n",
    "\n",
    "**Frequency Table:** Shows Distribution of frequencies. It contains two columns, variable and its frequency.\n",
    "\n",
    "**Frequency Distribution:**\n",
    "![image.png](attachment:image.png)\n",
    "\n",
    "**Probability Distribution:**\n",
    "for probabilty in y axis we have probability of each item. total adds upto 1. not more than that. (0.5, 0.1, 0.15, 0.2, 0.25..)\n",
    "\n",
    "**loc** - provides a way to select rows and columns (parameters are column names)\n",
    "**iloc** - provides a way to select rows and columns (parameters are column index numbers)\n",
    "\"\"\""
   ]
  },
  {
   "cell_type": "code",
   "execution_count": 1,
   "metadata": {},
   "outputs": [
    {
     "data": {
      "text/html": [
       "<div>\n",
       "<style scoped>\n",
       "    .dataframe tbody tr th:only-of-type {\n",
       "        vertical-align: middle;\n",
       "    }\n",
       "\n",
       "    .dataframe tbody tr th {\n",
       "        vertical-align: top;\n",
       "    }\n",
       "\n",
       "    .dataframe thead th {\n",
       "        text-align: right;\n",
       "    }\n",
       "</style>\n",
       "<table border=\"1\" class=\"dataframe\">\n",
       "  <thead>\n",
       "    <tr style=\"text-align: right;\">\n",
       "      <th></th>\n",
       "      <th>caseid</th>\n",
       "      <th>pregordr</th>\n",
       "      <th>howpreg_n</th>\n",
       "      <th>howpreg_p</th>\n",
       "      <th>moscurrp</th>\n",
       "      <th>nowprgdk</th>\n",
       "      <th>pregend1</th>\n",
       "      <th>pregend2</th>\n",
       "      <th>nbrnaliv</th>\n",
       "      <th>multbrth</th>\n",
       "      <th>...</th>\n",
       "      <th>laborfor_i</th>\n",
       "      <th>religion_i</th>\n",
       "      <th>metro_i</th>\n",
       "      <th>basewgt</th>\n",
       "      <th>adj_mod_basewgt</th>\n",
       "      <th>finalwgt</th>\n",
       "      <th>secu_p</th>\n",
       "      <th>sest</th>\n",
       "      <th>cmintvw</th>\n",
       "      <th>totalwgt_lb</th>\n",
       "    </tr>\n",
       "  </thead>\n",
       "  <tbody>\n",
       "    <tr>\n",
       "      <th>0</th>\n",
       "      <td>1</td>\n",
       "      <td>1</td>\n",
       "      <td>NaN</td>\n",
       "      <td>NaN</td>\n",
       "      <td>NaN</td>\n",
       "      <td>NaN</td>\n",
       "      <td>6.0</td>\n",
       "      <td>NaN</td>\n",
       "      <td>1.0</td>\n",
       "      <td>NaN</td>\n",
       "      <td>...</td>\n",
       "      <td>0</td>\n",
       "      <td>0</td>\n",
       "      <td>0</td>\n",
       "      <td>3410.389399</td>\n",
       "      <td>3869.349602</td>\n",
       "      <td>6448.271112</td>\n",
       "      <td>2</td>\n",
       "      <td>9</td>\n",
       "      <td>NaN</td>\n",
       "      <td>8.8125</td>\n",
       "    </tr>\n",
       "    <tr>\n",
       "      <th>1</th>\n",
       "      <td>1</td>\n",
       "      <td>2</td>\n",
       "      <td>NaN</td>\n",
       "      <td>NaN</td>\n",
       "      <td>NaN</td>\n",
       "      <td>NaN</td>\n",
       "      <td>6.0</td>\n",
       "      <td>NaN</td>\n",
       "      <td>1.0</td>\n",
       "      <td>NaN</td>\n",
       "      <td>...</td>\n",
       "      <td>0</td>\n",
       "      <td>0</td>\n",
       "      <td>0</td>\n",
       "      <td>3410.389399</td>\n",
       "      <td>3869.349602</td>\n",
       "      <td>6448.271112</td>\n",
       "      <td>2</td>\n",
       "      <td>9</td>\n",
       "      <td>NaN</td>\n",
       "      <td>7.8750</td>\n",
       "    </tr>\n",
       "    <tr>\n",
       "      <th>2</th>\n",
       "      <td>2</td>\n",
       "      <td>1</td>\n",
       "      <td>NaN</td>\n",
       "      <td>NaN</td>\n",
       "      <td>NaN</td>\n",
       "      <td>NaN</td>\n",
       "      <td>5.0</td>\n",
       "      <td>NaN</td>\n",
       "      <td>3.0</td>\n",
       "      <td>5.0</td>\n",
       "      <td>...</td>\n",
       "      <td>0</td>\n",
       "      <td>0</td>\n",
       "      <td>0</td>\n",
       "      <td>7226.301740</td>\n",
       "      <td>8567.549110</td>\n",
       "      <td>12999.542264</td>\n",
       "      <td>2</td>\n",
       "      <td>12</td>\n",
       "      <td>NaN</td>\n",
       "      <td>9.1250</td>\n",
       "    </tr>\n",
       "    <tr>\n",
       "      <th>3</th>\n",
       "      <td>2</td>\n",
       "      <td>2</td>\n",
       "      <td>NaN</td>\n",
       "      <td>NaN</td>\n",
       "      <td>NaN</td>\n",
       "      <td>NaN</td>\n",
       "      <td>6.0</td>\n",
       "      <td>NaN</td>\n",
       "      <td>1.0</td>\n",
       "      <td>NaN</td>\n",
       "      <td>...</td>\n",
       "      <td>0</td>\n",
       "      <td>0</td>\n",
       "      <td>0</td>\n",
       "      <td>7226.301740</td>\n",
       "      <td>8567.549110</td>\n",
       "      <td>12999.542264</td>\n",
       "      <td>2</td>\n",
       "      <td>12</td>\n",
       "      <td>NaN</td>\n",
       "      <td>7.0000</td>\n",
       "    </tr>\n",
       "    <tr>\n",
       "      <th>4</th>\n",
       "      <td>2</td>\n",
       "      <td>3</td>\n",
       "      <td>NaN</td>\n",
       "      <td>NaN</td>\n",
       "      <td>NaN</td>\n",
       "      <td>NaN</td>\n",
       "      <td>6.0</td>\n",
       "      <td>NaN</td>\n",
       "      <td>1.0</td>\n",
       "      <td>NaN</td>\n",
       "      <td>...</td>\n",
       "      <td>0</td>\n",
       "      <td>0</td>\n",
       "      <td>0</td>\n",
       "      <td>7226.301740</td>\n",
       "      <td>8567.549110</td>\n",
       "      <td>12999.542264</td>\n",
       "      <td>2</td>\n",
       "      <td>12</td>\n",
       "      <td>NaN</td>\n",
       "      <td>6.1875</td>\n",
       "    </tr>\n",
       "  </tbody>\n",
       "</table>\n",
       "<p>5 rows × 244 columns</p>\n",
       "</div>"
      ],
      "text/plain": [
       "   caseid  pregordr  howpreg_n  howpreg_p  moscurrp  nowprgdk  pregend1  \\\n",
       "0       1         1        NaN        NaN       NaN       NaN       6.0   \n",
       "1       1         2        NaN        NaN       NaN       NaN       6.0   \n",
       "2       2         1        NaN        NaN       NaN       NaN       5.0   \n",
       "3       2         2        NaN        NaN       NaN       NaN       6.0   \n",
       "4       2         3        NaN        NaN       NaN       NaN       6.0   \n",
       "\n",
       "   pregend2  nbrnaliv  multbrth     ...       laborfor_i  religion_i  metro_i  \\\n",
       "0       NaN       1.0       NaN     ...                0           0        0   \n",
       "1       NaN       1.0       NaN     ...                0           0        0   \n",
       "2       NaN       3.0       5.0     ...                0           0        0   \n",
       "3       NaN       1.0       NaN     ...                0           0        0   \n",
       "4       NaN       1.0       NaN     ...                0           0        0   \n",
       "\n",
       "       basewgt  adj_mod_basewgt      finalwgt  secu_p  sest  cmintvw  \\\n",
       "0  3410.389399      3869.349602   6448.271112       2     9      NaN   \n",
       "1  3410.389399      3869.349602   6448.271112       2     9      NaN   \n",
       "2  7226.301740      8567.549110  12999.542264       2    12      NaN   \n",
       "3  7226.301740      8567.549110  12999.542264       2    12      NaN   \n",
       "4  7226.301740      8567.549110  12999.542264       2    12      NaN   \n",
       "\n",
       "   totalwgt_lb  \n",
       "0       8.8125  \n",
       "1       7.8750  \n",
       "2       9.1250  \n",
       "3       7.0000  \n",
       "4       6.1875  \n",
       "\n",
       "[5 rows x 244 columns]"
      ]
     },
     "execution_count": 1,
     "metadata": {},
     "output_type": "execute_result"
    }
   ],
   "source": [
    "import nsfg\n",
    "import thinkstats2\n",
    "df = nsfg.ReadFemPreg()\n",
    "df.head()"
   ]
  },
  {
   "cell_type": "code",
   "execution_count": 2,
   "metadata": {},
   "outputs": [
    {
     "data": {
      "text/plain": [
       "Index(['caseid', 'pregordr', 'howpreg_n', 'howpreg_p', 'moscurrp', 'nowprgdk',\n",
       "       'pregend1', 'pregend2', 'nbrnaliv', 'multbrth',\n",
       "       ...\n",
       "       'laborfor_i', 'religion_i', 'metro_i', 'basewgt', 'adj_mod_basewgt',\n",
       "       'finalwgt', 'secu_p', 'sest', 'cmintvw', 'totalwgt_lb'],\n",
       "      dtype='object', length=244)"
      ]
     },
     "execution_count": 2,
     "metadata": {},
     "output_type": "execute_result"
    }
   ],
   "source": [
    "\"\"\"caseid - integer ID of respondent\n",
    "prglngth - duration of pregnency in weeks\n",
    "outcome - 1 - live birth\n",
    "pregordr - pregnancy serial number, 1 for 1st pregnancy and o on\n",
    "birthor - serial no.of live births, 1 for 1st child\n",
    "birthwgt_lb - weight\n",
    "agrpreg - mothers age at the time of prenancy\n",
    "finalwgt\n",
    "\"\"\"\n",
    "# columns method returns sequence of column names.\n",
    "df.columns"
   ]
  },
  {
   "cell_type": "code",
   "execution_count": 3,
   "metadata": {},
   "outputs": [
    {
     "data": {
      "text/plain": [
       "'pregordr'"
      ]
     },
     "execution_count": 3,
     "metadata": {},
     "output_type": "execute_result"
    }
   ],
   "source": [
    "# we can access each element of sequence by indexing \n",
    "df.columns[1]"
   ]
  },
  {
   "cell_type": "code",
   "execution_count": 4,
   "metadata": {},
   "outputs": [
    {
     "data": {
      "text/plain": [
       "pandas.core.series.Series"
      ]
     },
     "execution_count": 4,
     "metadata": {},
     "output_type": "execute_result"
    }
   ],
   "source": [
    "# series is another pandas data structure\n",
    "pregordr = df['pregordr']\n",
    "type(pregordr)"
   ]
  },
  {
   "cell_type": "code",
   "execution_count": 5,
   "metadata": {},
   "outputs": [
    {
     "data": {
      "text/plain": [
       "0    1\n",
       "1    2\n",
       "2    1\n",
       "3    2\n",
       "4    3\n",
       "Name: pregordr, dtype: int64"
      ]
     },
     "execution_count": 5,
     "metadata": {},
     "output_type": "execute_result"
    }
   ],
   "source": [
    "pregordr[:5]"
   ]
  },
  {
   "cell_type": "code",
   "execution_count": 6,
   "metadata": {},
   "outputs": [
    {
     "data": {
      "text/plain": [
       "10620    19\n",
       "10619    18\n",
       "10618    17\n",
       "10617    16\n",
       "10616    15\n",
       "Name: pregordr, dtype: int64"
      ]
     },
     "execution_count": 6,
     "metadata": {},
     "output_type": "execute_result"
    }
   ],
   "source": [
    "pregordr.sort_values(ascending=False)[:5]"
   ]
  },
  {
   "cell_type": "code",
   "execution_count": 7,
   "metadata": {},
   "outputs": [
    {
     "data": {
      "image/png": "[encoded data removed]",
      "text/plain": [
       "<Figure size 432x288 with 1 Axes>"
      ]
     },
     "metadata": {
      "needs_background": "light"
     },
     "output_type": "display_data"
    }
   ],
   "source": [
    "import matplotlib.pyplot as plt\n",
    "plt.hist(pregordr)\n",
    "plt.ylabel('frequency')\n",
    "plt.show()"
   ]
  },
  {
   "cell_type": "code",
   "execution_count": 8,
   "metadata": {},
   "outputs": [
    {
     "data": {
      "text/plain": [
       "0    1\n",
       "1    2\n",
       "2    1\n",
       "3    2\n",
       "4    3\n",
       "Name: pregordr, dtype: int64"
      ]
     },
     "execution_count": 8,
     "metadata": {},
     "output_type": "execute_result"
    }
   ],
   "source": [
    "# accessing columns with dot notation\n",
    "\n",
    "pregordr = df.pregordr\n",
    "pregordr.head()"
   ]
  },
  {
   "cell_type": "markdown",
   "metadata": {},
   "source": [
    "###### Chapter 2 - Distributions"
   ]
  },
  {
   "cell_type": "code",
   "execution_count": 9,
   "metadata": {},
   "outputs": [
    {
     "data": {
      "image/png": "[encoded data removed]",
      "text/plain": [
       "<Figure size 432x288 with 1 Axes>"
      ]
     },
     "metadata": {
      "needs_background": "light"
     },
     "output_type": "display_data"
    },
    {
     "data": {
      "text/plain": [
       "<Figure size 576x432 with 0 Axes>"
      ]
     },
     "metadata": {},
     "output_type": "display_data"
    }
   ],
   "source": [
    "# most common representation of distribution is histogram,\n",
    "# it is a graph that shows frequency of each value.\n",
    "\n",
    "# in this result, the most common value (mode) is 7 pounds.\n",
    "# The distribution is approximately bell shape, it is the shape of normal distribution.\n",
    "# Normal distribution is also called as guassian distribution.\n",
    "\n",
    "import thinkplot\n",
    "\n",
    "preg = nsfg.ReadFemPreg()\n",
    "live = preg[preg.outcome == 1]\n",
    "\n",
    "hist = thinkstats2.Hist(live.birthwgt_lb, label='birthwgt_lb')\n",
    "thinkplot.Hist(hist)\n",
    "thinkplot.Show(xlabel='pounds', ylabel='frequency')"
   ]
  },
  {
   "cell_type": "code",
   "execution_count": 10,
   "metadata": {},
   "outputs": [
    {
     "data": {
      "image/png": "[encoded data removed]",
      "text/plain": [
       "<Figure size 432x288 with 1 Axes>"
      ]
     },
     "metadata": {
      "needs_background": "light"
     },
     "output_type": "display_data"
    },
    {
     "data": {
      "text/plain": [
       "<Figure size 576x432 with 0 Axes>"
      ]
     },
     "metadata": {},
     "output_type": "display_data"
    }
   ],
   "source": [
    "# In theory we expect this distribution to be UNIFORM DISTRIBUTION, thats all values should be same frequency.\n",
    "# In this case we have more zeros because respondents roundedoff the values.\n",
    "\n",
    "hist = thinkstats2.Hist(live.birthwgt_oz, label='birthwgt_OZ')\n",
    "thinkplot.Hist(hist)\n",
    "thinkplot.Show(xlabel='pounds', ylabel='frequency')"
   ]
  },
  {
   "cell_type": "code",
   "execution_count": 11,
   "metadata": {},
   "outputs": [
    {
     "data": {
      "image/png": "[encoded data removed]",
      "text/plain": [
       "<Figure size 432x288 with 1 Axes>"
      ]
     },
     "metadata": {
      "needs_background": "light"
     },
     "output_type": "display_data"
    },
    {
     "data": {
      "text/plain": [
       "<Figure size 576x432 with 0 Axes>"
      ]
     },
     "metadata": {},
     "output_type": "display_data"
    }
   ],
   "source": [
    "# This histogram shows mother's age at the end of pregnancy.\n",
    "# mode is 21 years. Distribution is roughly bell shaped. \n",
    "# In this case tail on the right side is extends more than left. most mothers are in their 20s, fewer in 30s\n",
    "\n",
    "hist = thinkstats2.Hist(live.agepreg, label='agepreg')\n",
    "thinkplot.Hist(hist)\n",
    "thinkplot.Show(xlabel='pounds', ylabel='frequency')"
   ]
  },
  {
   "cell_type": "code",
   "execution_count": 12,
   "metadata": {},
   "outputs": [
    {
     "data": {
      "image/png": "[encoded data removed]",
      "text/plain": [
       "<Figure size 432x288 with 1 Axes>"
      ]
     },
     "metadata": {
      "needs_background": "light"
     },
     "output_type": "display_data"
    },
    {
     "data": {
      "text/plain": [
       "<Figure size 576x432 with 0 Axes>"
      ]
     },
     "metadata": {},
     "output_type": "display_data"
    }
   ],
   "source": [
    "# length of the pregnancy in weeks. Most common value is 39. left tail is longer than right.\n",
    "# early babies are common, but pregnancies rarely go past 43 weeks\n",
    "\n",
    "hist = thinkstats2.Hist(live.prglngth, label='preglngth')\n",
    "thinkplot.Hist(hist)\n",
    "thinkplot.Show(xlabel='pounds', ylabel='frequency')"
   ]
  },
  {
   "cell_type": "markdown",
   "metadata": {},
   "source": [
    "###### Outliers\n",
    "\n",
    "Extreme values that might be errors in measurement and recording, or might be accurate reports of rare events.\n",
    "\n",
    "The best way to handle outliers depends on domain knowledge.\n"
   ]
  },
  {
   "cell_type": "code",
   "execution_count": 13,
   "metadata": {},
   "outputs": [
    {
     "data": {
      "image/png": "[encoded data removed]",
      "text/plain": [
       "<Figure size 432x288 with 1 Axes>"
      ]
     },
     "metadata": {
      "needs_background": "light"
     },
     "output_type": "display_data"
    },
    {
     "data": {
      "text/plain": [
       "<Figure size 576x432 with 0 Axes>"
      ]
     },
     "metadata": {},
     "output_type": "display_data"
    }
   ],
   "source": [
    "# comparing distribution of pregnancy lengths for first babies and others.\n",
    "# dividing DataFrame of live births using birthordr and compute their histograms\n",
    "\n",
    "# Histograms are useful bcz they make most frequent values immediately apparent\n",
    "# they are not best choice to compare two distributions. \n",
    "# in this example, there are fewer first babies than others so some of the apparent differences in the histograms are due to sample sizes.\n",
    "\n",
    "firsts = live[live.birthord == 1]\n",
    "others = live[live.birthord != 1]\n",
    "\n",
    "first_hist = thinkstats2.Hist(firsts.prglngth)\n",
    "others_hist = thinkstats2.Hist(others.prglngth)\n",
    "\n",
    "width = 0.45 # total width of two bar is 1, each bar is 0.5, if we decrease it there will be soem space in between\n",
    "thinkplot.PrePlot(2) # takes number of histograms we are planning to plot and chooses appropriate colors.\n",
    "thinkplot.Hist(first_hist, align='right', width = width, label = 'first')\n",
    "thinkplot.Hist(others_hist, align='left', width = width, label= 'others')\n",
    "thinkplot.Show(xlabel='weeks', ylabel='frequency', xlim=[27,46])"
   ]
  },
  {
   "cell_type": "markdown",
   "metadata": {},
   "source": [
    "###### summerizing distributions\n",
    "\n",
    "A histogram is a complete description of the distribution of a sample,that is e could reconstruct the values in the sample with histograms.\n",
    "But often we want to summerize the distribution with few descriptive statistics\n"
   ]
  },
  {
   "cell_type": "code",
   "execution_count": 14,
   "metadata": {},
   "outputs": [
    {
     "name": "stdout",
     "output_type": "stream",
     "text": [
      "38.56055968517709 7.302662067826851 2.702343810070593\n"
     ]
    }
   ],
   "source": [
    "# MEAN\n",
    "#common summary statistic is mean. which describes the central tendency of the distribution.\n",
    "# mean is good description for set values (avg of apples)\n",
    "\n",
    "# VARIANCE\n",
    "# to summerize pumpkin weight, we need variance.\n",
    "# Variance is summary statistic intended to describe the variability or spread of a distribution.\n",
    "# variance is mean squared deviation. \n",
    "# the square root of variance is STANDARD DEVIATION.\n",
    "\n",
    "mean = live.prglngth.mean()\n",
    "var  = live.prglngth.var()\n",
    "std = live.prglngth.std()\n",
    "\n",
    "print(mean, var, std)\n",
    "\n",
    "# mean pregnancy length is 38.6 weeks, we can expect the deviation of 2-3 weeks to be common.\n",
    "# variane is 7.3 which is hard to interpret because it is 'weeks^2'  or 'square weeks'/\n",
    "# variance is useful in some calculations but it is not good summary statistic.\n"
   ]
  },
  {
   "cell_type": "markdown",
   "metadata": {},
   "source": [
    "###### Effect size --  Cohen's D\n",
    "\n",
    "An effect size is a summary statistic intended to describe the size of an effect. For example, to describe the difference between two groups, one obvious choice is the difference in the means. \n",
    "\n",
    "Another way to convey the size of the effect is to compare the difference between groups to the variability difference between groups. Cohen's d is a statistic intended to do that.  \n",
    "\n",
    "d = (x1-x2)/s\n",
    "where x1 and x2 are means of the groups.\n",
    "\n",
    "s is the 'pooled standard deviation'\n",
    "\n",
    "pooled standard deviation = ((No. of elements in group1 * variance of group 1)  + (No. of elements in group2 * variance of group 2))\n",
    "\n"
   ]
  },
  {
   "cell_type": "markdown",
   "metadata": {},
   "source": [
    "######  Exercise -1\n",
    "Using the variable totalwgt_lb, investigate whether first babies are lighter or heavier than others. Compute Cohen's d to quantify the\n",
    "difference between the groups. How does it compare to the difference in\n",
    "pregnancy length?"
   ]
  },
  {
   "cell_type": "code",
   "execution_count": 15,
   "metadata": {},
   "outputs": [
    {
     "data": {
      "text/plain": [
       "0     8.8125\n",
       "2     9.1250\n",
       "5     8.5625\n",
       "8     7.5625\n",
       "10    7.8125\n",
       "Name: totalwgt_lb, dtype: float64"
      ]
     },
     "execution_count": 15,
     "metadata": {},
     "output_type": "execute_result"
    }
   ],
   "source": [
    "live.totalwgt_lb.head()\n",
    "\n",
    "# firsts are where pregnencies with pregordr 1\n",
    "\n",
    "firsts['totalwgt_lb'].head()"
   ]
  },
  {
   "cell_type": "code",
   "execution_count": 16,
   "metadata": {},
   "outputs": [
    {
     "data": {
      "text/plain": [
       "1    7.8750\n",
       "3    7.0000\n",
       "4    6.1875\n",
       "6    9.5625\n",
       "7    8.3750\n",
       "Name: totalwgt_lb, dtype: float64"
      ]
     },
     "execution_count": 16,
     "metadata": {},
     "output_type": "execute_result"
    }
   ],
   "source": [
    "# others are pregnancies other than pregordr 1\n",
    "others['totalwgt_lb'].head()"
   ]
  },
  {
   "cell_type": "code",
   "execution_count": 17,
   "metadata": {},
   "outputs": [
    {
     "name": "stdout",
     "output_type": "stream",
     "text": [
      "7.201094430437772\n",
      "7.325855614973262\n"
     ]
    }
   ],
   "source": [
    "# we are separting only totalwgt_lb column into groups variables\n",
    "group1_firsts = firsts['totalwgt_lb']\n",
    "group2_others = others['totalwgt_lb']\n",
    "\n",
    "#print(group1_firsts.shape)\n",
    "#print(group2_others.shape)\n",
    "\n",
    "# calculating the mean of two groups\n",
    "firsts_mean = group1_firsts.mean()\n",
    "others_mean = group2_others.mean()\n",
    "\n",
    "print(firsts_mean)\n",
    "print(others_mean)"
   ]
  },
  {
   "cell_type": "code",
   "execution_count": 18,
   "metadata": {},
   "outputs": [
    {
     "data": {
      "text/plain": [
       "0.12476118453549034"
      ]
     },
     "execution_count": 18,
     "metadata": {},
     "output_type": "execute_result"
    }
   ],
   "source": [
    "# calculating the difference between both the means\n",
    "mean_diff = (others_mean - firsts_mean)\n",
    "mean_diff"
   ]
  },
  {
   "cell_type": "code",
   "execution_count": 19,
   "metadata": {},
   "outputs": [
    {
     "name": "stdout",
     "output_type": "stream",
     "text": [
      "2.0180273009157768\n",
      "1.9437810258964572\n"
     ]
    }
   ],
   "source": [
    "firsts_var = group1_firsts.var()\n",
    "others_var = group2_others.var()\n",
    "\n",
    "print(firsts_var)\n",
    "print(others_var)"
   ]
  },
  {
   "cell_type": "code",
   "execution_count": 20,
   "metadata": {},
   "outputs": [
    {
     "data": {
      "text/plain": [
       "8906.560578980416"
      ]
     },
     "execution_count": 20,
     "metadata": {},
     "output_type": "execute_result"
    }
   ],
   "source": [
    "n1 = len(group1_firsts)\n",
    "n2 = len(group2_others)\n",
    "\n",
    "S = (n1 * firsts_var) + (n2*others_var)/(n1+n2)\n",
    "S"
   ]
  },
  {
   "cell_type": "code",
   "execution_count": 21,
   "metadata": {},
   "outputs": [
    {
     "data": {
      "text/plain": [
       "1.4007784871516863e-05"
      ]
     },
     "execution_count": 21,
     "metadata": {},
     "output_type": "execute_result"
    }
   ],
   "source": [
    "cohen = mean_diff/S\n",
    "cohen"
   ]
  },
  {
   "attachments": {
    "image.png": {
     "image/png": "[encoded data removed]"
    }
   },
   "cell_type": "markdown",
   "metadata": {},
   "source": [
    "#### Distributions: Synopsis\n",
    "\n",
    "\n",
    "**Mode**: The most frequent value in a sample\n",
    "\n",
    "**Normal-Distribution**: Gaussian distribution or Bell shaped distribution.\n",
    "\n",
    "**tail**: the part of distribution at the high or low extremes.\n",
    "\n",
    "**Central Tendency**: average of sample or population.\n",
    "\n",
    "**outlier**: value far from Central Tendency.\n",
    "\n",
    "**Spread**: Measure of How spreadout the values in the distribution are.\n",
    "\n",
    "**Summary Statistic**: Mean, median, mode, Standard Deviation, Variance, Min, Max, etc.\n",
    "\n",
    "**Variance**: Summary statistic often used to quantify spread.\n",
    "\n",
    "**Standard Deviation**: The square root of variance. it is also measure of spread\n",
    "\n",
    "**Effect Size**: A summary statistic used to measure size of the effect like difference between two groups. usually measured by cohen's D.\n",
    "\n",
    "Cohen's d is an effect size used to indicate the standardised difference between two means. \n",
    "![image.png](attachment:image.png)\n",
    "![image.png](attachment:image.png)\n",
    "\n",
    "\n"
   ]
  },
  {
   "cell_type": "markdown",
   "metadata": {},
   "source": [
    "### Chapter-2 : Probability Mass Function"
   ]
  },
  {
   "cell_type": "markdown",
   "metadata": {},
   "source": [
    "**Probability Mass Function**: It is a way to represent distribution. It maps from each value to its probability. By plotting PMF instead of histogram, we can compare the two distributions without mislead by differnet sample size. \n",
    "\n",
    "**Probability**: Probability is a frequency expressed as a fraction of sample size, n. \n",
    "\n",
    "To get from frequencies to probabilities, we divide through by n, which is called **Normalization.**\n",
    "\n",
    "**Random Experiment**: Anything that has uncertain outcome.\n",
    "\n",
    "**Basic Outcome**: outcome of random experiment. dice = 1,2,3,4,5,6\n",
    "\n",
    "**Sample Space:** Collection of all basic outcomes.\n",
    "\n",
    "**Event:** Subset of sample space. \n",
    "\n",
    "Probability has three definitions.\n",
    "1.Classical Probability or Exact Probability (very Limited)\n",
    "2.Emprical Probability or Relative Frequency Probability\n",
    "3.Subjective Probability\n",
    "\n",
    "**Classical Probability:** \n",
    "We use it when we play cards. \n",
    "All basic outcomes are equally likely. \n",
    "\n",
    "Probability of Event(A) = Number of Basic Outcomes that satisfy A / Total No. of Outcomes in sample space.\n",
    "\n",
    "**Emprical Probability or Relative Frequency Probability:** \n",
    "uses Past data.\n",
    "\n",
    "Probability(A) = Number of times the event A occurs in repeated trails / Total No. of trails in random experiment\n",
    "\n",
    "It is proportion of times an event occurs in a large number of trails.\n",
    "This method is used in Medicine, Finance etc.\n",
    "\n",
    "**Subjective Probability:** When you dont have an past data.\n",
    "Ex. when releasing brandnew product.\n",
    "Important in management and personal decision making.\n",
    "\n",
    "Probability(A) = An opinion or belief about the chance of occassion."
   ]
  },
  {
   "cell_type": "code",
   "execution_count": 22,
   "metadata": {},
   "outputs": [
    {
     "data": {
      "text/plain": [
       "Pmf({1: 0.2, 2: 0.4, 3: 0.2, 5: 0.2})"
      ]
     },
     "execution_count": 22,
     "metadata": {},
     "output_type": "execute_result"
    }
   ],
   "source": [
    "# if you calculate all the probabilities it should add to one.\n",
    "# probability should not be greater than 1 or 100%\n",
    "\n",
    "pmf = thinkstats2.Pmf([1,2,2,3,5])\n",
    "pmf"
   ]
  },
  {
   "cell_type": "code",
   "execution_count": 23,
   "metadata": {},
   "outputs": [
    {
     "data": {
      "text/plain": [
       "0.4"
      ]
     },
     "execution_count": 23,
     "metadata": {},
     "output_type": "execute_result"
    }
   ],
   "source": [
    "pmf.Prob(2)"
   ]
  },
  {
   "cell_type": "code",
   "execution_count": 24,
   "metadata": {},
   "outputs": [
    {
     "data": {
      "text/plain": [
       "0.4"
      ]
     },
     "execution_count": 24,
     "metadata": {},
     "output_type": "execute_result"
    }
   ],
   "source": [
    "pmf[2]"
   ]
  },
  {
   "cell_type": "code",
   "execution_count": 25,
   "metadata": {},
   "outputs": [
    {
     "data": {
      "text/plain": [
       "0.2"
      ]
     },
     "execution_count": 25,
     "metadata": {},
     "output_type": "execute_result"
    }
   ],
   "source": [
    "pmf.Mult(2,0.5)\n",
    "pmf.Prob(2)"
   ]
  },
  {
   "cell_type": "code",
   "execution_count": 26,
   "metadata": {},
   "outputs": [
    {
     "data": {
      "text/plain": [
       "0.8"
      ]
     },
     "execution_count": 26,
     "metadata": {},
     "output_type": "execute_result"
    }
   ],
   "source": [
    "# if you modify a pmf, the result may not be normalized. probabilities may not be equal to 1\n",
    "# to check you can call total\n",
    "pmf.Total()"
   ]
  },
  {
   "cell_type": "code",
   "execution_count": 27,
   "metadata": {},
   "outputs": [
    {
     "data": {
      "text/plain": [
       "1.0"
      ]
     },
     "execution_count": 27,
     "metadata": {},
     "output_type": "execute_result"
    }
   ],
   "source": [
    "# to renormalize, call Normalize\n",
    "pmf.Normalize()\n",
    "pmf.Total()\n",
    "# pmf objects provide a copy method so that you can make modifications, without affecting original."
   ]
  },
  {
   "cell_type": "code",
   "execution_count": 28,
   "metadata": {},
   "outputs": [
    {
     "data": {
      "text/plain": [
       "0     39\n",
       "2     39\n",
       "5     38\n",
       "8     39\n",
       "10    39\n",
       "Name: prglngth, dtype: int64"
      ]
     },
     "execution_count": 28,
     "metadata": {},
     "output_type": "execute_result"
    }
   ],
   "source": [
    "# taking prglngth for first births and others\n",
    "firsts_prglngth = firsts['prglngth']\n",
    "others_prglngth = others['prglngth']\n",
    "\n",
    "firsts_prglngth.head()"
   ]
  },
  {
   "cell_type": "code",
   "execution_count": 29,
   "metadata": {},
   "outputs": [
    {
     "name": "stdout",
     "output_type": "stream",
     "text": [
      "Pmf({39: 0.47903920235667347, 40: 0.12145932472241106, 41: 0.08157715839564922, 38: 0.0616360752322683, 37: 0.04713346929526399, 42: 0.04645365964196692, 36: 0.03897575345569907, 35: 0.03602991162474507, 43: 0.01971447994561523, 30: 0.016542034896895538, 32: 0.012463176977113076, 34: 0.006571493315205076, 33: 0.0063448900974393836, 28: 0.005438477226376614, 44: 0.005211874008610923, 26: 0.0036256514842510764, 31: 0.003399048266485384, 29: 0.0020394289598912306, 24: 0.0015862225243598459, 45: 0.0013596193065941536, 22: 0.0006798096532970768, 48: 0.0006798096532970768, 20: 0.00022660321776569228, 47: 0.00022660321776569228, 17: 0.00022660321776569228, 21: 0.00022660321776569228, 25: 0.00022660321776569228, 46: 0.00022660321776569228, 23: 0.00022660321776569228, 27: 0.00022660321776569228, 0: 0.00022660321776569228})\n",
      "Pmf({39: 0.5446673706441394, 40: 0.12249208025343189, 38: 0.07074973600844772, 37: 0.05216473072861668, 41: 0.04794086589229145, 35: 0.032101372756071805, 36: 0.03146779303062302, 42: 0.02597676874340021, 30: 0.013727560718057022, 43: 0.012882787750791975, 32: 0.012671594508975712, 34: 0.006546990496304118, 44: 0.004857444561774023, 33: 0.0044350580781415, 26: 0.004012671594508976, 29: 0.0025343189017951427, 31: 0.0025343189017951427, 28: 0.001689545934530095, 24: 0.0012671594508975714, 22: 0.0008447729672650475, 45: 0.0008447729672650475, 48: 0.0008447729672650475, 50: 0.00042238648363252375, 25: 0.00042238648363252375, 27: 0.00042238648363252375, 17: 0.00021119324181626187, 9: 0.00021119324181626187, 13: 0.00021119324181626187, 21: 0.00021119324181626187, 19: 0.00021119324181626187, 18: 0.00021119324181626187, 4: 0.00021119324181626187})\n"
     ]
    }
   ],
   "source": [
    "# applying PMF to both the columns\n",
    "\n",
    "firsts_pmf = thinkstats2.Pmf(firsts_prglngth)\n",
    "others_pmf = thinkstats2.Pmf(others_prglngth)\n",
    "\n",
    "print(firsts_pmf)\n",
    "print(others_pmf)"
   ]
  },
  {
   "cell_type": "code",
   "execution_count": 30,
   "metadata": {},
   "outputs": [
    {
     "name": "stdout",
     "output_type": "stream",
     "text": [
      "1.0\n",
      "1.0000000000000002\n"
     ]
    }
   ],
   "source": [
    "print(firsts_pmf.Total())\n",
    "print(others_pmf.Total())"
   ]
  },
  {
   "cell_type": "code",
   "execution_count": 31,
   "metadata": {},
   "outputs": [
    {
     "name": "stdout",
     "output_type": "stream",
     "text": [
      "0.9998866983911172\n",
      "1.0000000000000002\n"
     ]
    }
   ],
   "source": [
    "# multiplying probability by factor\n",
    "firsts_pmf.Mult(20, 0.5)\n",
    "others_pmf.Mult(20, 0.5)\n",
    "\n",
    "print(firsts_pmf.Total())\n",
    "print(others_pmf.Total())"
   ]
  },
  {
   "cell_type": "code",
   "execution_count": 32,
   "metadata": {},
   "outputs": [
    {
     "name": "stdout",
     "output_type": "stream",
     "text": [
      "0.9999999999999997\n",
      "1.0\n"
     ]
    }
   ],
   "source": [
    "# renormalizing\n",
    "\n",
    "firsts_pmf.Normalize()\n",
    "others_pmf.Normalize()\n",
    "\n",
    "print(firsts_pmf.Total())\n",
    "print(others_pmf.Total())\n"
   ]
  },
  {
   "cell_type": "code",
   "execution_count": 33,
   "metadata": {},
   "outputs": [
    {
     "data": {
      "image/png": "[encoded data removed]",
      "text/plain": [
       "<Figure size 864x432 with 2 Axes>"
      ]
     },
     "metadata": {
      "needs_background": "light"
     },
     "output_type": "display_data"
    },
    {
     "data": {
      "text/plain": [
       "<Figure size 576x432 with 0 Axes>"
      ]
     },
     "metadata": {},
     "output_type": "display_data"
    }
   ],
   "source": [
    "# preparing graphs\n",
    "#By plotting the PMF instead of the histogram, we can compare the two\n",
    "#distributions without being mislead by the difference in sample size. \n",
    "# Based on this figure, first babies seem to be less likely than others to arrive on time\n",
    "#(week 39) and more likely to be a late (weeks 41 and 42).\n",
    " \n",
    "\n",
    "thinkplot.PrePlot(2, cols=2)\n",
    "thinkplot.Hist(firsts_pmf, align='right', width=width, label = 'first')\n",
    "thinkplot.Hist(others_pmf, align='left', width=width, label='others')\n",
    "thinkplot.Config(xlabel='Weeks', ylabel='Probability', axis=[27,46,0,0.6]) # axis is limits in x and y axis\n",
    "thinkplot.PrePlot(2)\n",
    "thinkplot.SubPlot(2)\n",
    "thinkplot.Pmfs([firsts_pmf, others_pmf])\n",
    "thinkplot.Show(xlabel='Weeks', axis=[27,46,0,0.6])\n"
   ]
  },
  {
   "cell_type": "code",
   "execution_count": 34,
   "metadata": {},
   "outputs": [
    {
     "data": {
      "image/png": "[encoded data removed]",
      "text/plain": [
       "<Figure size 432x288 with 1 Axes>"
      ]
     },
     "metadata": {
      "needs_background": "light"
     },
     "output_type": "display_data"
    }
   ],
   "source": [
    "# before and at 39th week the probability of first borns (p1) is less than p2 thats why the difference went in negative\n",
    "# we can say that the probability for of pregnancy for first babies is less likelely to be born in week 39\n",
    "# and some what more likely in weeiks 41 and 42\n",
    "\n",
    "from collections import defaultdict\n",
    "weeks = range(35,46)\n",
    "diffs = []\n",
    "\n",
    "for week in weeks:\n",
    "    p1 = firsts_pmf.Prob(week)\n",
    "    p2 = others_pmf.Prob(week)\n",
    "    diff=100*(p1-p2)\n",
    "    diffs.append(diff)\n",
    "\n",
    "thinkplot.Bar(weeks, diffs)"
   ]
  },
  {
   "cell_type": "markdown",
   "metadata": {},
   "source": [
    "###### The class size paradox"
   ]
  },
  {
   "cell_type": "markdown",
   "metadata": {},
   "source": [
    "In other words, students tend to experience a greater number of classmates than the true average class size, because a disproportionately large number of those experiences are in the large lectures. Because those classes have more students in them.\n",
    "\n",
    "If that boggles your brain the way it does mine, consider this thought experiment. Say a college only offers one class: a huge lecture course with 100 students. Now it launches a new class, but just one student switches into it, leaving 99 behind. The “average” class size drops from 100 to 50, but almost everyone’s experiences will have hardly changed, and a survey will still report a perceived average of nearly 100 students per class."
   ]
  },
  {
   "cell_type": "markdown",
   "metadata": {},
   "source": [
    "###### Data Frame Indexing"
   ]
  },
  {
   "cell_type": "code",
   "execution_count": 35,
   "metadata": {},
   "outputs": [
    {
     "data": {
      "text/html": [
       "<div>\n",
       "<style scoped>\n",
       "    .dataframe tbody tr th:only-of-type {\n",
       "        vertical-align: middle;\n",
       "    }\n",
       "\n",
       "    .dataframe tbody tr th {\n",
       "        vertical-align: top;\n",
       "    }\n",
       "\n",
       "    .dataframe thead th {\n",
       "        text-align: right;\n",
       "    }\n",
       "</style>\n",
       "<table border=\"1\" class=\"dataframe\">\n",
       "  <thead>\n",
       "    <tr style=\"text-align: right;\">\n",
       "      <th></th>\n",
       "      <th>0</th>\n",
       "      <th>1</th>\n",
       "    </tr>\n",
       "  </thead>\n",
       "  <tbody>\n",
       "    <tr>\n",
       "      <th>0</th>\n",
       "      <td>0.213253</td>\n",
       "      <td>-0.949847</td>\n",
       "    </tr>\n",
       "    <tr>\n",
       "      <th>1</th>\n",
       "      <td>0.439009</td>\n",
       "      <td>0.843827</td>\n",
       "    </tr>\n",
       "    <tr>\n",
       "      <th>2</th>\n",
       "      <td>0.969355</td>\n",
       "      <td>0.963854</td>\n",
       "    </tr>\n",
       "    <tr>\n",
       "      <th>3</th>\n",
       "      <td>-0.524662</td>\n",
       "      <td>-1.120899</td>\n",
       "    </tr>\n",
       "  </tbody>\n",
       "</table>\n",
       "</div>"
      ],
      "text/plain": [
       "          0         1\n",
       "0  0.213253 -0.949847\n",
       "1  0.439009  0.843827\n",
       "2  0.969355  0.963854\n",
       "3 -0.524662 -1.120899"
      ]
     },
     "execution_count": 35,
     "metadata": {},
     "output_type": "execute_result"
    }
   ],
   "source": [
    "import numpy as np\n",
    "import pandas as pd\n",
    "\n",
    "array = np.random.randn(4,2)\n",
    "df = pd.DataFrame(array)\n",
    "df"
   ]
  },
  {
   "cell_type": "code",
   "execution_count": 36,
   "metadata": {},
   "outputs": [
    {
     "data": {
      "text/plain": [
       "array([[ 0.21325295, -0.9498468 ],\n",
       "       [ 0.43900934,  0.843827  ],\n",
       "       [ 0.96935468,  0.96385355],\n",
       "       [-0.52466227, -1.12089894]])"
      ]
     },
     "execution_count": 36,
     "metadata": {},
     "output_type": "execute_result"
    }
   ],
   "source": [
    "array"
   ]
  },
  {
   "cell_type": "code",
   "execution_count": 37,
   "metadata": {},
   "outputs": [
    {
     "data": {
      "text/html": [
       "<div>\n",
       "<style scoped>\n",
       "    .dataframe tbody tr th:only-of-type {\n",
       "        vertical-align: middle;\n",
       "    }\n",
       "\n",
       "    .dataframe tbody tr th {\n",
       "        vertical-align: top;\n",
       "    }\n",
       "\n",
       "    .dataframe thead th {\n",
       "        text-align: right;\n",
       "    }\n",
       "</style>\n",
       "<table border=\"1\" class=\"dataframe\">\n",
       "  <thead>\n",
       "    <tr style=\"text-align: right;\">\n",
       "      <th></th>\n",
       "      <th>A</th>\n",
       "      <th>B</th>\n",
       "    </tr>\n",
       "  </thead>\n",
       "  <tbody>\n",
       "    <tr>\n",
       "      <th>0</th>\n",
       "      <td>0.213253</td>\n",
       "      <td>-0.949847</td>\n",
       "    </tr>\n",
       "    <tr>\n",
       "      <th>1</th>\n",
       "      <td>0.439009</td>\n",
       "      <td>0.843827</td>\n",
       "    </tr>\n",
       "    <tr>\n",
       "      <th>2</th>\n",
       "      <td>0.969355</td>\n",
       "      <td>0.963854</td>\n",
       "    </tr>\n",
       "    <tr>\n",
       "      <th>3</th>\n",
       "      <td>-0.524662</td>\n",
       "      <td>-1.120899</td>\n",
       "    </tr>\n",
       "  </tbody>\n",
       "</table>\n",
       "</div>"
      ],
      "text/plain": [
       "          A         B\n",
       "0  0.213253 -0.949847\n",
       "1  0.439009  0.843827\n",
       "2  0.969355  0.963854\n",
       "3 -0.524662 -1.120899"
      ]
     },
     "execution_count": 37,
     "metadata": {},
     "output_type": "execute_result"
    }
   ],
   "source": [
    "# by default columns are numbered starting from 0. but we can provide column names\n",
    "\n",
    "columns=['A', 'B']\n",
    "df = pd.DataFrame(array, columns=columns)\n",
    "df"
   ]
  },
  {
   "cell_type": "code",
   "execution_count": 38,
   "metadata": {},
   "outputs": [
    {
     "data": {
      "text/html": [
       "<div>\n",
       "<style scoped>\n",
       "    .dataframe tbody tr th:only-of-type {\n",
       "        vertical-align: middle;\n",
       "    }\n",
       "\n",
       "    .dataframe tbody tr th {\n",
       "        vertical-align: top;\n",
       "    }\n",
       "\n",
       "    .dataframe thead th {\n",
       "        text-align: right;\n",
       "    }\n",
       "</style>\n",
       "<table border=\"1\" class=\"dataframe\">\n",
       "  <thead>\n",
       "    <tr style=\"text-align: right;\">\n",
       "      <th></th>\n",
       "      <th>A</th>\n",
       "      <th>B</th>\n",
       "    </tr>\n",
       "  </thead>\n",
       "  <tbody>\n",
       "    <tr>\n",
       "      <th>a</th>\n",
       "      <td>0.213253</td>\n",
       "      <td>-0.949847</td>\n",
       "    </tr>\n",
       "    <tr>\n",
       "      <th>b</th>\n",
       "      <td>0.439009</td>\n",
       "      <td>0.843827</td>\n",
       "    </tr>\n",
       "    <tr>\n",
       "      <th>c</th>\n",
       "      <td>0.969355</td>\n",
       "      <td>0.963854</td>\n",
       "    </tr>\n",
       "    <tr>\n",
       "      <th>d</th>\n",
       "      <td>-0.524662</td>\n",
       "      <td>-1.120899</td>\n",
       "    </tr>\n",
       "  </tbody>\n",
       "</table>\n",
       "</div>"
      ],
      "text/plain": [
       "          A         B\n",
       "a  0.213253 -0.949847\n",
       "b  0.439009  0.843827\n",
       "c  0.969355  0.963854\n",
       "d -0.524662 -1.120899"
      ]
     },
     "execution_count": 38,
     "metadata": {},
     "output_type": "execute_result"
    }
   ],
   "source": [
    "# you can also provide row names. The set of row names is called INDEX.\n",
    "# row names themselves are called LABELS.\n",
    "\n",
    "index = ['a', 'b', 'c', 'd']\n",
    "df = pd.DataFrame(array, columns=columns, index=index)\n",
    "df"
   ]
  },
  {
   "cell_type": "code",
   "execution_count": 39,
   "metadata": {},
   "outputs": [
    {
     "data": {
      "text/plain": [
       "a    0.213253\n",
       "b    0.439009\n",
       "c    0.969355\n",
       "d   -0.524662\n",
       "Name: A, dtype: float64"
      ]
     },
     "execution_count": 39,
     "metadata": {},
     "output_type": "execute_result"
    }
   ],
   "source": [
    "# simple indexing selects a column, returns series.\n",
    "\n",
    "df['A']"
   ]
  },
  {
   "cell_type": "code",
   "execution_count": 40,
   "metadata": {},
   "outputs": [
    {
     "name": "stdout",
     "output_type": "stream",
     "text": [
      "          A         B\n",
      "a  0.213253 -0.949847\n",
      "b  0.439009  0.843827\n",
      "          A         B\n",
      "a  0.213253 -0.949847\n",
      "b  0.439009  0.843827\n",
      "c  0.969355  0.963854\n"
     ]
    }
   ],
   "source": [
    "# to select rows with slicing\n",
    "\n",
    "print(df[:2]) # row numbers are exclusive of end points\n",
    "print(df['a':'c'])"
   ]
  },
  {
   "cell_type": "code",
   "execution_count": 41,
   "metadata": {},
   "outputs": [
    {
     "name": "stdout",
     "output_type": "stream",
     "text": [
      "A    0.213253\n",
      "B   -0.949847\n",
      "Name: a, dtype: float64\n",
      "A    0.213253\n",
      "B   -0.949847\n",
      "Name: a, dtype: float64\n"
     ]
    }
   ],
   "source": [
    "# selecting rows with loc\n",
    "print(df.loc['a'])\n",
    "print(df.iloc[0])"
   ]
  },
  {
   "cell_type": "code",
   "execution_count": 42,
   "metadata": {},
   "outputs": [
    {
     "data": {
      "text/html": [
       "<div>\n",
       "<style scoped>\n",
       "    .dataframe tbody tr th:only-of-type {\n",
       "        vertical-align: middle;\n",
       "    }\n",
       "\n",
       "    .dataframe tbody tr th {\n",
       "        vertical-align: top;\n",
       "    }\n",
       "\n",
       "    .dataframe thead th {\n",
       "        text-align: right;\n",
       "    }\n",
       "</style>\n",
       "<table border=\"1\" class=\"dataframe\">\n",
       "  <thead>\n",
       "    <tr style=\"text-align: right;\">\n",
       "      <th></th>\n",
       "      <th>A</th>\n",
       "      <th>B</th>\n",
       "    </tr>\n",
       "  </thead>\n",
       "  <tbody>\n",
       "    <tr>\n",
       "      <th>a</th>\n",
       "      <td>0.213253</td>\n",
       "      <td>-0.949847</td>\n",
       "    </tr>\n",
       "    <tr>\n",
       "      <th>c</th>\n",
       "      <td>0.969355</td>\n",
       "      <td>0.963854</td>\n",
       "    </tr>\n",
       "  </tbody>\n",
       "</table>\n",
       "</div>"
      ],
      "text/plain": [
       "          A         B\n",
       "a  0.213253 -0.949847\n",
       "c  0.969355  0.963854"
      ]
     },
     "execution_count": 42,
     "metadata": {},
     "output_type": "execute_result"
    }
   ],
   "source": [
    "df.loc[['a', 'c']]"
   ]
  },
  {
   "cell_type": "markdown",
   "metadata": {},
   "source": [
    "Exercises\n",
    "\n",
    "**Exercise:** Something like the class size paradox appears if you survey children and ask how many children are in their family. Families with many children are more likely to appear in your sample, and families with no children have no chance to be in the sample.\n",
    "\n",
    "Use the NSFG respondent variable `numkdhh` to construct the actual distribution for the number of children under 18 in the respondents' households.\n",
    "\n",
    "Now compute the biased distribution we would see if we surveyed the children and asked them how many children under 18 (including themselves) are in their household."
   ]
  },
  {
   "cell_type": "code",
   "execution_count": 43,
   "metadata": {},
   "outputs": [
    {
     "data": {
      "text/plain": [
       "Pmf({0: 0.466178202276593, 1: 0.21405207379301322, 2: 0.19625801386889966, 3: 0.08713855815779145, 4: 0.025644380478869556, 5: 0.01072877142483318}, 'numkdhh')"
      ]
     },
     "execution_count": 43,
     "metadata": {},
     "output_type": "execute_result"
    }
   ],
   "source": [
    "resp = nsfg.ReadFemResp()\n",
    "pmf = thinkstats2.Pmf(resp.numkdhh, label='numkdhh')\n",
    "pmf"
   ]
  },
  {
   "cell_type": "code",
   "execution_count": 44,
   "metadata": {},
   "outputs": [
    {
     "data": {
      "image/png": "[encoded data removed]",
      "text/plain": [
       "<Figure size 432x288 with 1 Axes>"
      ]
     },
     "metadata": {
      "needs_background": "light"
     },
     "output_type": "display_data"
    }
   ],
   "source": [
    "thinkplot.Pmf(pmf)\n",
    "thinkplot.Config(xlabel='Number of Children', ylabel='PMF')"
   ]
  },
  {
   "cell_type": "code",
   "execution_count": 45,
   "metadata": {},
   "outputs": [
    {
     "data": {
      "image/png": "[encoded data removed]",
      "text/plain": [
       "<Figure size 432x288 with 1 Axes>"
      ]
     },
     "metadata": {
      "needs_background": "light"
     },
     "output_type": "display_data"
    }
   ],
   "source": [
    "def BiasPmf(pmf, label):\n",
    "    new_pmf = pmf.Copy(label=label)\n",
    "\n",
    "    for x, p in pmf.Items():\n",
    "        new_pmf.Mult(x, x)\n",
    "        \n",
    "    new_pmf.Normalize()\n",
    "    return new_pmf\n",
    "\n",
    "biased = BiasPmf(pmf, label='biased')\n",
    "thinkplot.PrePlot(2)\n",
    "thinkplot.Pmfs([pmf, biased])\n",
    "thinkplot.Config(xlabel='Number of Children', ylabel='PMF')"
   ]
  },
  {
   "cell_type": "code",
   "execution_count": 46,
   "metadata": {},
   "outputs": [
    {
     "data": {
      "text/plain": [
       "1.024205155043831"
      ]
     },
     "execution_count": 46,
     "metadata": {},
     "output_type": "execute_result"
    }
   ],
   "source": [
    "pmf.Mean()"
   ]
  },
  {
   "cell_type": "code",
   "execution_count": 47,
   "metadata": {},
   "outputs": [
    {
     "data": {
      "text/plain": [
       "2.403679100664282"
      ]
     },
     "execution_count": 47,
     "metadata": {},
     "output_type": "execute_result"
    }
   ],
   "source": [
    "biased.Mean()"
   ]
  }
 ],
 "metadata": {
  "kernelspec": {
   "display_name": "Python 3",
   "language": "python",
   "name": "python3"
  },
  "language_info": {
   "codemirror_mode": {
    "name": "ipython",
    "version": 3
   },
   "file_extension": ".py",
   "mimetype": "text/x-python",
   "name": "python",
   "nbconvert_exporter": "python",
   "pygments_lexer": "ipython3",
   "version": "3.7.2"
  }
 },
 "nbformat": 4,
 "nbformat_minor": 2
}
